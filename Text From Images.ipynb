{
 "cells": [
  {
   "cell_type": "markdown",
   "id": "abc61da2",
   "metadata": {},
   "source": [
    "## This program is to extract text from the images"
   ]
  },
  {
   "cell_type": "code",
   "execution_count": 4,
   "id": "b2fe8d29",
   "metadata": {},
   "outputs": [
    {
     "data": {
      "text/plain": [
       "-1"
      ]
     },
     "execution_count": 4,
     "metadata": {},
     "output_type": "execute_result"
    }
   ],
   "source": [
    "# Importing the necessary libraries\n",
    "import cv2\n",
    "import numpy as np\n",
    "\n",
    "# Reading an image\n",
    "image = cv2.imread('17-story-textingtips-009-1540924976.jpg')\n",
    "\n",
    "# Converting into grayscale from RGB\n",
    "gray = cv2.cvtColor(image, cv2.COLOR_BGR2GRAY)\n",
    "sharpen_kernel = np.array([[-1,-1,-1], [-1,9,-1], [-1,-1,-1]])\n",
    "sharpen = cv2.filter2D(gray, -1, sharpen_kernel)\n",
    "thresh = cv2.threshold(sharpen, 0, 255, cv2.THRESH_BINARY_INV + cv2.THRESH_OTSU)[1]\n",
    "\n",
    "kernel = cv2.getStructuringElement(cv2.MORPH_RECT, (3,3))\n",
    "close = cv2.morphologyEx(thresh, cv2.MORPH_CLOSE, kernel, iterations=1)\n",
    "result = 255 - close\n",
    "\n",
    "# Showing different images \n",
    "cv2.imshow('sharpen', sharpen)\n",
    "cv2.imshow('thresh', thresh)\n",
    "cv2.imshow('close', close)\n",
    "cv2.imshow('result', result)\n",
    "cv2.waitKey()"
   ]
  },
  {
   "cell_type": "code",
   "execution_count": null,
   "id": "0d8a0e88",
   "metadata": {},
   "outputs": [],
   "source": []
  }
 ],
 "metadata": {
  "kernelspec": {
   "display_name": "Python 3 (ipykernel)",
   "language": "python",
   "name": "python3"
  },
  "language_info": {
   "codemirror_mode": {
    "name": "ipython",
    "version": 3
   },
   "file_extension": ".py",
   "mimetype": "text/x-python",
   "name": "python",
   "nbconvert_exporter": "python",
   "pygments_lexer": "ipython3",
   "version": "3.9.6"
  }
 },
 "nbformat": 4,
 "nbformat_minor": 5
}
